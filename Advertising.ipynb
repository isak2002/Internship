{
  "cells": [
    {
      "cell_type": "markdown",
      "id": "f535e080",
      "metadata": {
        "id": "f535e080"
      },
      "source": [
        "# Importing Libraries"
      ]
    },
    {
      "cell_type": "code",
      "execution_count": null,
      "id": "df216a1d",
      "metadata": {
        "ExecuteTime": {
          "end_time": "2023-04-04T09:30:35.780725Z",
          "start_time": "2023-04-04T09:30:33.016116Z"
        },
        "id": "df216a1d"
      },
      "outputs": [],
      "source": [
        "import numpy as np\n",
        "import pandas as pd\n",
        "import matplotlib.pyplot as plt\n",
        "import seaborn as sns"
      ]
    },
    {
      "cell_type": "markdown",
      "id": "ea5b6fc1",
      "metadata": {
        "id": "ea5b6fc1"
      },
      "source": [
        "#### Import Dataset i.e. advertising.csv file"
      ]
    },
    {
      "cell_type": "code",
      "execution_count": null,
      "id": "1bd6ab57",
      "metadata": {
        "ExecuteTime": {
          "end_time": "2023-04-04T09:30:35.843550Z",
          "start_time": "2023-04-04T09:30:35.783710Z"
        },
        "id": "1bd6ab57",
        "outputId": "22efb8b5-c843-4e15-f0f8-7babe7eca168"
      },
      "outputs": [
        {
          "data": {
            "text/html": [
              "<div>\n",
              "<style scoped>\n",
              "    .dataframe tbody tr th:only-of-type {\n",
              "        vertical-align: middle;\n",
              "    }\n",
              "\n",
              "    .dataframe tbody tr th {\n",
              "        vertical-align: top;\n",
              "    }\n",
              "\n",
              "    .dataframe thead th {\n",
              "        text-align: right;\n",
              "    }\n",
              "</style>\n",
              "<table border=\"1\" class=\"dataframe\">\n",
              "  <thead>\n",
              "    <tr style=\"text-align: right;\">\n",
              "      <th></th>\n",
              "      <th>TV</th>\n",
              "      <th>Radio</th>\n",
              "      <th>Newspaper</th>\n",
              "      <th>Sales</th>\n",
              "    </tr>\n",
              "  </thead>\n",
              "  <tbody>\n",
              "    <tr>\n",
              "      <th>0</th>\n",
              "      <td>230.1</td>\n",
              "      <td>37.8</td>\n",
              "      <td>69.2</td>\n",
              "      <td>22.1</td>\n",
              "    </tr>\n",
              "    <tr>\n",
              "      <th>1</th>\n",
              "      <td>44.5</td>\n",
              "      <td>39.3</td>\n",
              "      <td>45.1</td>\n",
              "      <td>10.4</td>\n",
              "    </tr>\n",
              "    <tr>\n",
              "      <th>2</th>\n",
              "      <td>17.2</td>\n",
              "      <td>45.9</td>\n",
              "      <td>69.3</td>\n",
              "      <td>12.0</td>\n",
              "    </tr>\n",
              "    <tr>\n",
              "      <th>3</th>\n",
              "      <td>151.5</td>\n",
              "      <td>41.3</td>\n",
              "      <td>58.5</td>\n",
              "      <td>16.5</td>\n",
              "    </tr>\n",
              "    <tr>\n",
              "      <th>4</th>\n",
              "      <td>180.8</td>\n",
              "      <td>10.8</td>\n",
              "      <td>58.4</td>\n",
              "      <td>17.9</td>\n",
              "    </tr>\n",
              "    <tr>\n",
              "      <th>...</th>\n",
              "      <td>...</td>\n",
              "      <td>...</td>\n",
              "      <td>...</td>\n",
              "      <td>...</td>\n",
              "    </tr>\n",
              "    <tr>\n",
              "      <th>195</th>\n",
              "      <td>38.2</td>\n",
              "      <td>3.7</td>\n",
              "      <td>13.8</td>\n",
              "      <td>7.6</td>\n",
              "    </tr>\n",
              "    <tr>\n",
              "      <th>196</th>\n",
              "      <td>94.2</td>\n",
              "      <td>4.9</td>\n",
              "      <td>8.1</td>\n",
              "      <td>14.0</td>\n",
              "    </tr>\n",
              "    <tr>\n",
              "      <th>197</th>\n",
              "      <td>177.0</td>\n",
              "      <td>9.3</td>\n",
              "      <td>6.4</td>\n",
              "      <td>14.8</td>\n",
              "    </tr>\n",
              "    <tr>\n",
              "      <th>198</th>\n",
              "      <td>283.6</td>\n",
              "      <td>42.0</td>\n",
              "      <td>66.2</td>\n",
              "      <td>25.5</td>\n",
              "    </tr>\n",
              "    <tr>\n",
              "      <th>199</th>\n",
              "      <td>232.1</td>\n",
              "      <td>8.6</td>\n",
              "      <td>8.7</td>\n",
              "      <td>18.4</td>\n",
              "    </tr>\n",
              "  </tbody>\n",
              "</table>\n",
              "<p>200 rows × 4 columns</p>\n",
              "</div>"
            ],
            "text/plain": [
              "        TV  Radio  Newspaper  Sales\n",
              "0    230.1   37.8       69.2   22.1\n",
              "1     44.5   39.3       45.1   10.4\n",
              "2     17.2   45.9       69.3   12.0\n",
              "3    151.5   41.3       58.5   16.5\n",
              "4    180.8   10.8       58.4   17.9\n",
              "..     ...    ...        ...    ...\n",
              "195   38.2    3.7       13.8    7.6\n",
              "196   94.2    4.9        8.1   14.0\n",
              "197  177.0    9.3        6.4   14.8\n",
              "198  283.6   42.0       66.2   25.5\n",
              "199  232.1    8.6        8.7   18.4\n",
              "\n",
              "[200 rows x 4 columns]"
            ]
          },
          "execution_count": 2,
          "metadata": {},
          "output_type": "execute_result"
        }
      ],
      "source": [
        "data = pd.read_csv(\"advertising.csv\")\n",
        "data"
      ]
    },
    {
      "cell_type": "markdown",
      "id": "adbbdaa0",
      "metadata": {
        "id": "adbbdaa0"
      },
      "source": [
        "### Data Profiling"
      ]
    },
    {
      "cell_type": "code",
      "execution_count": null,
      "id": "8d07d6dd",
      "metadata": {
        "ExecuteTime": {
          "end_time": "2023-04-04T09:30:35.874467Z",
          "start_time": "2023-04-04T09:30:35.849535Z"
        },
        "id": "8d07d6dd",
        "outputId": "0d79f2c3-59aa-4c20-ce37-b6b14a9f9832"
      },
      "outputs": [
        {
          "name": "stdout",
          "output_type": "stream",
          "text": [
            "<class 'pandas.core.frame.DataFrame'>\n",
            "RangeIndex: 200 entries, 0 to 199\n",
            "Data columns (total 4 columns):\n",
            " #   Column     Non-Null Count  Dtype  \n",
            "---  ------     --------------  -----  \n",
            " 0   TV         200 non-null    float64\n",
            " 1   Radio      200 non-null    float64\n",
            " 2   Newspaper  200 non-null    float64\n",
            " 3   Sales      200 non-null    float64\n",
            "dtypes: float64(4)\n",
            "memory usage: 6.4 KB\n"
          ]
        }
      ],
      "source": [
        "# Getting Information anout dataset\n",
        "data.info()"
      ]
    },
    {
      "cell_type": "code",
      "execution_count": null,
      "id": "28a65051",
      "metadata": {
        "ExecuteTime": {
          "end_time": "2023-04-04T09:30:35.905385Z",
          "start_time": "2023-04-04T09:30:35.883445Z"
        },
        "id": "28a65051",
        "outputId": "8ff92b81-3c5c-4dc2-9d5c-5bc082d2b6e4"
      },
      "outputs": [
        {
          "data": {
            "text/plain": [
              "TV           0\n",
              "Radio        0\n",
              "Newspaper    0\n",
              "Sales        0\n",
              "dtype: int64"
            ]
          },
          "execution_count": 4,
          "metadata": {},
          "output_type": "execute_result"
        }
      ],
      "source": [
        "# Checking for Null values\n",
        "data.isnull().sum()"
      ]
    },
    {
      "cell_type": "code",
      "execution_count": null,
      "id": "4d78de42",
      "metadata": {
        "ExecuteTime": {
          "end_time": "2023-04-04T09:30:35.936303Z",
          "start_time": "2023-04-04T09:30:35.912367Z"
        },
        "id": "4d78de42",
        "outputId": "6408e365-14b7-474c-cb5c-14d4d7f98d64"
      },
      "outputs": [
        {
          "data": {
            "text/html": [
              "<div>\n",
              "<style scoped>\n",
              "    .dataframe tbody tr th:only-of-type {\n",
              "        vertical-align: middle;\n",
              "    }\n",
              "\n",
              "    .dataframe tbody tr th {\n",
              "        vertical-align: top;\n",
              "    }\n",
              "\n",
              "    .dataframe thead th {\n",
              "        text-align: right;\n",
              "    }\n",
              "</style>\n",
              "<table border=\"1\" class=\"dataframe\">\n",
              "  <thead>\n",
              "    <tr style=\"text-align: right;\">\n",
              "      <th></th>\n",
              "      <th>TV</th>\n",
              "      <th>Radio</th>\n",
              "      <th>Newspaper</th>\n",
              "      <th>Sales</th>\n",
              "    </tr>\n",
              "  </thead>\n",
              "  <tbody>\n",
              "    <tr>\n",
              "      <th>TV</th>\n",
              "      <td>1.000000</td>\n",
              "      <td>0.054809</td>\n",
              "      <td>0.056648</td>\n",
              "      <td>0.901208</td>\n",
              "    </tr>\n",
              "    <tr>\n",
              "      <th>Radio</th>\n",
              "      <td>0.054809</td>\n",
              "      <td>1.000000</td>\n",
              "      <td>0.354104</td>\n",
              "      <td>0.349631</td>\n",
              "    </tr>\n",
              "    <tr>\n",
              "      <th>Newspaper</th>\n",
              "      <td>0.056648</td>\n",
              "      <td>0.354104</td>\n",
              "      <td>1.000000</td>\n",
              "      <td>0.157960</td>\n",
              "    </tr>\n",
              "    <tr>\n",
              "      <th>Sales</th>\n",
              "      <td>0.901208</td>\n",
              "      <td>0.349631</td>\n",
              "      <td>0.157960</td>\n",
              "      <td>1.000000</td>\n",
              "    </tr>\n",
              "  </tbody>\n",
              "</table>\n",
              "</div>"
            ],
            "text/plain": [
              "                 TV     Radio  Newspaper     Sales\n",
              "TV         1.000000  0.054809   0.056648  0.901208\n",
              "Radio      0.054809  1.000000   0.354104  0.349631\n",
              "Newspaper  0.056648  0.354104   1.000000  0.157960\n",
              "Sales      0.901208  0.349631   0.157960  1.000000"
            ]
          },
          "execution_count": 5,
          "metadata": {},
          "output_type": "execute_result"
        }
      ],
      "source": [
        "# Checking for Correlation\n",
        "data.corr()"
      ]
    },
    {
      "cell_type": "code",
      "execution_count": null,
      "id": "f38cf104",
      "metadata": {
        "ExecuteTime": {
          "end_time": "2023-04-04T09:30:36.339226Z",
          "start_time": "2023-04-04T09:30:35.941289Z"
        },
        "id": "f38cf104",
        "outputId": "54450641-6e0e-492b-9724-30ba83203db6"
      },
      "outputs": [
        {
          "data": {
            "text/plain": [
              "<AxesSubplot:>"
            ]
          },
          "execution_count": 6,
          "metadata": {},
          "output_type": "execute_result"
        },
        {
          "data": {
            "image/png": "[encoded data removed]",
            "text/plain": [
              "<Figure size 640x480 with 2 Axes>"
            ]
          },
          "metadata": {},
          "output_type": "display_data"
        }
      ],
      "source": [
        "# draw a Plot to see the correlation b/w the variables or features using heatmap\n",
        "sns.heatmap(data.corr(),annot=True)"
      ]
    },
    {
      "cell_type": "code",
      "execution_count": null,
      "id": "1c49367f",
      "metadata": {
        "ExecuteTime": {
          "end_time": "2023-04-04T09:30:36.387131Z",
          "start_time": "2023-04-04T09:30:36.342218Z"
        },
        "id": "1c49367f",
        "outputId": "d8a5e777-f80c-4b6b-bfe0-9fd089c88484"
      },
      "outputs": [
        {
          "data": {
            "text/html": [
              "<div>\n",
              "<style scoped>\n",
              "    .dataframe tbody tr th:only-of-type {\n",
              "        vertical-align: middle;\n",
              "    }\n",
              "\n",
              "    .dataframe tbody tr th {\n",
              "        vertical-align: top;\n",
              "    }\n",
              "\n",
              "    .dataframe thead th {\n",
              "        text-align: right;\n",
              "    }\n",
              "</style>\n",
              "<table border=\"1\" class=\"dataframe\">\n",
              "  <thead>\n",
              "    <tr style=\"text-align: right;\">\n",
              "      <th></th>\n",
              "      <th>TV</th>\n",
              "      <th>Radio</th>\n",
              "      <th>Newspaper</th>\n",
              "      <th>Sales</th>\n",
              "    </tr>\n",
              "  </thead>\n",
              "  <tbody>\n",
              "    <tr>\n",
              "      <th>count</th>\n",
              "      <td>200.000000</td>\n",
              "      <td>200.000000</td>\n",
              "      <td>200.000000</td>\n",
              "      <td>200.000000</td>\n",
              "    </tr>\n",
              "    <tr>\n",
              "      <th>mean</th>\n",
              "      <td>147.042500</td>\n",
              "      <td>23.264000</td>\n",
              "      <td>30.554000</td>\n",
              "      <td>15.130500</td>\n",
              "    </tr>\n",
              "    <tr>\n",
              "      <th>std</th>\n",
              "      <td>85.854236</td>\n",
              "      <td>14.846809</td>\n",
              "      <td>21.778621</td>\n",
              "      <td>5.283892</td>\n",
              "    </tr>\n",
              "    <tr>\n",
              "      <th>min</th>\n",
              "      <td>0.700000</td>\n",
              "      <td>0.000000</td>\n",
              "      <td>0.300000</td>\n",
              "      <td>1.600000</td>\n",
              "    </tr>\n",
              "    <tr>\n",
              "      <th>25%</th>\n",
              "      <td>74.375000</td>\n",
              "      <td>9.975000</td>\n",
              "      <td>12.750000</td>\n",
              "      <td>11.000000</td>\n",
              "    </tr>\n",
              "    <tr>\n",
              "      <th>50%</th>\n",
              "      <td>149.750000</td>\n",
              "      <td>22.900000</td>\n",
              "      <td>25.750000</td>\n",
              "      <td>16.000000</td>\n",
              "    </tr>\n",
              "    <tr>\n",
              "      <th>75%</th>\n",
              "      <td>218.825000</td>\n",
              "      <td>36.525000</td>\n",
              "      <td>45.100000</td>\n",
              "      <td>19.050000</td>\n",
              "    </tr>\n",
              "    <tr>\n",
              "      <th>max</th>\n",
              "      <td>296.400000</td>\n",
              "      <td>49.600000</td>\n",
              "      <td>114.000000</td>\n",
              "      <td>27.000000</td>\n",
              "    </tr>\n",
              "  </tbody>\n",
              "</table>\n",
              "</div>"
            ],
            "text/plain": [
              "               TV       Radio   Newspaper       Sales\n",
              "count  200.000000  200.000000  200.000000  200.000000\n",
              "mean   147.042500   23.264000   30.554000   15.130500\n",
              "std     85.854236   14.846809   21.778621    5.283892\n",
              "min      0.700000    0.000000    0.300000    1.600000\n",
              "25%     74.375000    9.975000   12.750000   11.000000\n",
              "50%    149.750000   22.900000   25.750000   16.000000\n",
              "75%    218.825000   36.525000   45.100000   19.050000\n",
              "max    296.400000   49.600000  114.000000   27.000000"
            ]
          },
          "execution_count": 7,
          "metadata": {},
          "output_type": "execute_result"
        }
      ],
      "source": [
        "# Describing about dataset\n",
        "data.describe()"
      ]
    },
    {
      "cell_type": "markdown",
      "id": "c4839b47",
      "metadata": {
        "id": "c4839b47"
      },
      "source": [
        "### Checking for outliers"
      ]
    },
    {
      "cell_type": "code",
      "execution_count": null,
      "id": "3895a607",
      "metadata": {
        "ExecuteTime": {
          "end_time": "2023-04-04T09:30:36.560645Z",
          "start_time": "2023-04-04T09:30:36.392094Z"
        },
        "id": "3895a607",
        "outputId": "ea4add25-d5e3-4626-ba12-c266e81230a6"
      },
      "outputs": [
        {
          "name": "stderr",
          "output_type": "stream",
          "text": [
            "F:\\Notes\\lib\\site-packages\\seaborn\\_decorators.py:36: FutureWarning: Pass the following variable as a keyword arg: x. From version 0.12, the only valid positional argument will be `data`, and passing other arguments without an explicit keyword will result in an error or misinterpretation.\n",
            "  warnings.warn(\n"
          ]
        },
        {
          "data": {
            "text/plain": [
              "<AxesSubplot:xlabel='TV'>"
            ]
          },
          "execution_count": 8,
          "metadata": {},
          "output_type": "execute_result"
        },
        {
          "data": {
            "image/png": "[encoded data removed]",
            "text/plain": [
              "<Figure size 640x480 with 1 Axes>"
            ]
          },
          "metadata": {},
          "output_type": "display_data"
        }
      ],
      "source": [
        "sns.boxplot(data[\"TV\"])"
      ]
    },
    {
      "cell_type": "code",
      "execution_count": null,
      "id": "baf1b0ce",
      "metadata": {
        "ExecuteTime": {
          "end_time": "2023-04-04T09:30:36.718213Z",
          "start_time": "2023-04-04T09:30:36.564624Z"
        },
        "id": "baf1b0ce",
        "outputId": "13285327-f257-487d-f959-db3b2a2e8799"
      },
      "outputs": [
        {
          "name": "stderr",
          "output_type": "stream",
          "text": [
            "F:\\Notes\\lib\\site-packages\\seaborn\\_decorators.py:36: FutureWarning: Pass the following variable as a keyword arg: x. From version 0.12, the only valid positional argument will be `data`, and passing other arguments without an explicit keyword will result in an error or misinterpretation.\n",
            "  warnings.warn(\n"
          ]
        },
        {
          "data": {
            "text/plain": [
              "<AxesSubplot:xlabel='Radio'>"
            ]
          },
          "execution_count": 9,
          "metadata": {},
          "output_type": "execute_result"
        },
        {
          "data": {
            "image/png": "[encoded data removed]",
            "text/plain": [
              "<Figure size 640x480 with 1 Axes>"
            ]
          },
          "metadata": {},
          "output_type": "display_data"
        }
      ],
      "source": [
        "sns.boxplot(data[\"Radio\"])"
      ]
    },
    {
      "cell_type": "code",
      "execution_count": null,
      "id": "fe716326",
      "metadata": {
        "ExecuteTime": {
          "end_time": "2023-04-04T09:30:36.893750Z",
          "start_time": "2023-04-04T09:30:36.730183Z"
        },
        "id": "fe716326",
        "outputId": "9a6e38e0-cfbc-4e01-e0bf-90859ac02bba"
      },
      "outputs": [
        {
          "name": "stderr",
          "output_type": "stream",
          "text": [
            "F:\\Notes\\lib\\site-packages\\seaborn\\_decorators.py:36: FutureWarning: Pass the following variable as a keyword arg: x. From version 0.12, the only valid positional argument will be `data`, and passing other arguments without an explicit keyword will result in an error or misinterpretation.\n",
            "  warnings.warn(\n"
          ]
        },
        {
          "data": {
            "text/plain": [
              "<AxesSubplot:xlabel='Newspaper'>"
            ]
          },
          "execution_count": 10,
          "metadata": {},
          "output_type": "execute_result"
        },
        {
          "data": {
            "image/png": "[encoded data removed]",
            "text/plain": [
              "<Figure size 640x480 with 1 Axes>"
            ]
          },
          "metadata": {},
          "output_type": "display_data"
        }
      ],
      "source": [
        "sns.boxplot(data[\"Newspaper\"])"
      ]
    },
    {
      "cell_type": "code",
      "execution_count": null,
      "id": "a59dc248",
      "metadata": {
        "ExecuteTime": {
          "end_time": "2023-04-04T09:30:37.049328Z",
          "start_time": "2023-04-04T09:30:36.897735Z"
        },
        "id": "a59dc248",
        "outputId": "ee97af2b-8fa8-4c79-f232-538a43aa89c7"
      },
      "outputs": [
        {
          "name": "stderr",
          "output_type": "stream",
          "text": [
            "F:\\Notes\\lib\\site-packages\\seaborn\\_decorators.py:36: FutureWarning: Pass the following variable as a keyword arg: x. From version 0.12, the only valid positional argument will be `data`, and passing other arguments without an explicit keyword will result in an error or misinterpretation.\n",
            "  warnings.warn(\n"
          ]
        },
        {
          "data": {
            "text/plain": [
              "<AxesSubplot:xlabel='Sales'>"
            ]
          },
          "execution_count": 11,
          "metadata": {},
          "output_type": "execute_result"
        },
        {
          "data": {
            "image/png": "[encoded data removed]",
            "text/plain": [
              "<Figure size 640x480 with 1 Axes>"
            ]
          },
          "metadata": {},
          "output_type": "display_data"
        }
      ],
      "source": [
        "sns.boxplot(data[\"Sales\"])"
      ]
    },
    {
      "cell_type": "markdown",
      "id": "0e708326",
      "metadata": {
        "id": "0e708326"
      },
      "source": [
        "### As all the columns are numerical so no need of using \"Encoding Techniques\""
      ]
    },
    {
      "cell_type": "code",
      "execution_count": null,
      "id": "f5e9d7d1",
      "metadata": {
        "ExecuteTime": {
          "end_time": "2023-04-04T09:30:37.065288Z",
          "start_time": "2023-04-04T09:30:37.054316Z"
        },
        "id": "f5e9d7d1"
      },
      "outputs": [],
      "source": [
        "# Spliting the data into two parts using x and y variables\n",
        "x = data.iloc[:,:-1]\n",
        "y = data.iloc[:,-1]"
      ]
    },
    {
      "cell_type": "code",
      "execution_count": null,
      "id": "21ae9761",
      "metadata": {
        "ExecuteTime": {
          "end_time": "2023-04-04T09:30:37.240828Z",
          "start_time": "2023-04-04T09:30:37.069277Z"
        },
        "id": "21ae9761"
      },
      "outputs": [],
      "source": [
        "# Split X and Y into Train_Test_Split\n",
        "from sklearn.model_selection import train_test_split\n",
        "xtrain,xtest,ytrain,ytest = train_test_split(x,y,test_size=0.2,random_state=60)"
      ]
    },
    {
      "cell_type": "code",
      "execution_count": null,
      "id": "1d37da91",
      "metadata": {
        "ExecuteTime": {
          "end_time": "2023-04-04T09:30:37.256774Z",
          "start_time": "2023-04-04T09:30:37.243808Z"
        },
        "id": "1d37da91",
        "outputId": "e1e2e4e5-e593-4524-abe2-77d4f7b0bb52"
      },
      "outputs": [
        {
          "name": "stdout",
          "output_type": "stream",
          "text": [
            "(160, 3) (40, 3) (160,) (40,)\n"
          ]
        }
      ],
      "source": [
        "print(xtrain.shape,xtest.shape,ytrain.shape,ytest.shape)"
      ]
    },
    {
      "cell_type": "code",
      "execution_count": null,
      "id": "0cf41938",
      "metadata": {
        "ExecuteTime": {
          "end_time": "2023-04-04T09:30:37.336559Z",
          "start_time": "2023-04-04T09:30:37.259765Z"
        },
        "id": "0cf41938",
        "outputId": "63516dd6-e856-4af4-af56-cc0a0e0f5209"
      },
      "outputs": [
        {
          "data": {
            "text/plain": [
              "LinearRegression()"
            ]
          },
          "execution_count": 15,
          "metadata": {},
          "output_type": "execute_result"
        }
      ],
      "source": [
        "# Model Training using xtrain and ytrain by using Linaer Regression\n",
        "from sklearn.linear_model import LinearRegression\n",
        "LE  = LinearRegression()\n",
        "LE.fit(xtrain,ytrain)"
      ]
    },
    {
      "cell_type": "code",
      "execution_count": null,
      "id": "769c4747",
      "metadata": {
        "ExecuteTime": {
          "end_time": "2023-04-04T09:30:37.352518Z",
          "start_time": "2023-04-04T09:30:37.340552Z"
        },
        "id": "769c4747",
        "outputId": "2f3e4901-de94-405d-dfb0-b5a1e7a1ec6b"
      },
      "outputs": [
        {
          "name": "stdout",
          "output_type": "stream",
          "text": [
            "[14.86253567 20.71209333 11.50411103 21.30153573 21.24006953 20.9128905\n",
            " 19.29855108 18.05566817 15.12820499  8.267163   11.27264507  7.35008557\n",
            " 17.51542401  6.20767918 11.35760162 18.24877288 18.08778935 10.66059873\n",
            "  8.13809106 11.88656912 24.50971973  8.46190316 14.79396758 17.13071653\n",
            " 12.11917011 19.44224732 13.78999297 10.25602094  7.60305103  8.35786633\n",
            " 13.93232255 19.25624785 15.61360351 20.16153728 21.01431065 17.89957036\n",
            " 14.32171256  8.06280812 13.89103958 10.38308253]\n"
          ]
        }
      ],
      "source": [
        "# Model Prediction using xtest\n",
        "ypred = LE.predict(xtest)\n",
        "print(ypred)"
      ]
    },
    {
      "cell_type": "code",
      "execution_count": null,
      "id": "0cf4d796",
      "metadata": {
        "ExecuteTime": {
          "end_time": "2023-04-04T09:30:37.384432Z",
          "start_time": "2023-04-04T09:30:37.357504Z"
        },
        "id": "0cf4d796",
        "outputId": "bcaf8f4c-5586-4eb7-e4eb-1afd3def387e"
      },
      "outputs": [
        {
          "data": {
            "text/plain": [
              "87     16.0\n",
              "52     22.6\n",
              "144    12.3\n",
              "176    20.2\n",
              "33     17.4\n",
              "0      22.1\n",
              "53     21.2\n",
              "81     17.3\n",
              "120    15.5\n",
              "132     5.7\n",
              "Name: Sales, dtype: float64"
            ]
          },
          "execution_count": 17,
          "metadata": {},
          "output_type": "execute_result"
        }
      ],
      "source": [
        "ytest[:10]"
      ]
    },
    {
      "cell_type": "code",
      "execution_count": null,
      "id": "b70eb44f",
      "metadata": {
        "ExecuteTime": {
          "end_time": "2023-04-04T09:30:37.416351Z",
          "start_time": "2023-04-04T09:30:37.391414Z"
        },
        "id": "b70eb44f",
        "outputId": "7ce9a3f1-4ecf-444a-f08f-8d5d5555eb11"
      },
      "outputs": [
        {
          "data": {
            "text/plain": [
              "0.9331088069223819"
            ]
          },
          "execution_count": 18,
          "metadata": {},
          "output_type": "execute_result"
        }
      ],
      "source": [
        "# Checking Score of the model\n",
        "LE.score(xtest,ytest)"
      ]
    },
    {
      "cell_type": "markdown",
      "id": "920ab159",
      "metadata": {
        "ExecuteTime": {
          "end_time": "2023-04-04T09:31:11.301151Z",
          "start_time": "2023-04-04T09:31:11.287157Z"
        },
        "id": "920ab159"
      },
      "source": [
        "### Not Required Standardization"
      ]
    },
    {
      "cell_type": "code",
      "execution_count": null,
      "id": "9e897b96",
      "metadata": {
        "ExecuteTime": {
          "end_time": "2023-04-04T09:30:37.447274Z",
          "start_time": "2023-04-04T09:30:37.421333Z"
        },
        "id": "9e897b96"
      },
      "outputs": [],
      "source": [
        "# Standardising\n",
        "from sklearn.preprocessing import StandardScaler\n",
        "sc = StandardScaler()\n",
        "xtrain_sc = sc.fit_transform(xtrain)\n",
        "xtest_sc = sc.transform(xtest)"
      ]
    },
    {
      "cell_type": "code",
      "execution_count": null,
      "id": "10d8cdfc",
      "metadata": {
        "ExecuteTime": {
          "end_time": "2023-04-04T09:30:37.478181Z",
          "start_time": "2023-04-04T09:30:37.451253Z"
        },
        "id": "10d8cdfc",
        "outputId": "fa3c73d4-cc7d-4247-c364-587fd59f6de8"
      },
      "outputs": [
        {
          "data": {
            "text/plain": [
              "LinearRegression()"
            ]
          },
          "execution_count": 20,
          "metadata": {},
          "output_type": "execute_result"
        }
      ],
      "source": [
        "# retraining the model\n",
        "# Model Training using xtrain and ytrain by using Linaer Regression\n",
        "from sklearn.linear_model import LinearRegression\n",
        "LE  = LinearRegression()\n",
        "LE.fit(xtrain_sc,ytrain)"
      ]
    },
    {
      "cell_type": "code",
      "execution_count": null,
      "id": "3f0a5558",
      "metadata": {
        "ExecuteTime": {
          "end_time": "2023-04-04T09:30:37.493143Z",
          "start_time": "2023-04-04T09:30:37.481173Z"
        },
        "id": "3f0a5558",
        "outputId": "b3f6795b-d1ef-41e1-a582-5556144f9e6d"
      },
      "outputs": [
        {
          "name": "stdout",
          "output_type": "stream",
          "text": [
            "[14.86253567 20.71209333 11.50411103 21.30153573 21.24006953 20.9128905\n",
            " 19.29855108 18.05566817 15.12820499  8.267163   11.27264507  7.35008557\n",
            " 17.51542401  6.20767918 11.35760162 18.24877288 18.08778935 10.66059873\n",
            "  8.13809106 11.88656912 24.50971973  8.46190316 14.79396758 17.13071653\n",
            " 12.11917011 19.44224732 13.78999297 10.25602094  7.60305103  8.35786633\n",
            " 13.93232255 19.25624785 15.61360351 20.16153728 21.01431065 17.89957036\n",
            " 14.32171256  8.06280812 13.89103958 10.38308253]\n"
          ]
        }
      ],
      "source": [
        "y_pred = LE.predict(xtest_sc)\n",
        "print(y_pred)"
      ]
    },
    {
      "cell_type": "code",
      "execution_count": null,
      "id": "52b154eb",
      "metadata": {
        "ExecuteTime": {
          "end_time": "2023-04-04T09:30:37.524058Z",
          "start_time": "2023-04-04T09:30:37.501122Z"
        },
        "id": "52b154eb",
        "outputId": "31e50532-ac4d-4553-bc73-516cad02a0cc"
      },
      "outputs": [
        {
          "data": {
            "text/plain": [
              "87     16.0\n",
              "52     22.6\n",
              "144    12.3\n",
              "176    20.2\n",
              "33     17.4\n",
              "0      22.1\n",
              "53     21.2\n",
              "81     17.3\n",
              "120    15.5\n",
              "132     5.7\n",
              "Name: Sales, dtype: float64"
            ]
          },
          "execution_count": 22,
          "metadata": {},
          "output_type": "execute_result"
        }
      ],
      "source": [
        "ytest[:10]"
      ]
    },
    {
      "cell_type": "code",
      "execution_count": null,
      "id": "6ca6cbb4",
      "metadata": {
        "ExecuteTime": {
          "end_time": "2023-04-04T09:30:37.568938Z",
          "start_time": "2023-04-04T09:30:37.532039Z"
        },
        "id": "6ca6cbb4",
        "outputId": "ccc1f510-2b0d-417c-817d-2cc03d262f51"
      },
      "outputs": [
        {
          "data": {
            "text/plain": [
              "0.9331088069223819"
            ]
          },
          "execution_count": 23,
          "metadata": {},
          "output_type": "execute_result"
        }
      ],
      "source": [
        "LE.score(xtest_sc,ytest)"
      ]
    }
  ],
  "metadata": {
    "kernelspec": {
      "display_name": "Python 3 (ipykernel)",
      "language": "python",
      "name": "python3"
    },
    "language_info": {
      "codemirror_mode": {
        "name": "ipython",
        "version": 3
      },
      "file_extension": ".py",
      "mimetype": "text/x-python",
      "name": "python",
      "nbconvert_exporter": "python",
      "pygments_lexer": "ipython3",
      "version": "3.9.13"
    },
    "varInspector": {
      "cols": {
        "lenName": 16,
        "lenType": 16,
        "lenVar": 40
      },
      "kernels_config": {
        "python": {
          "delete_cmd_postfix": "",
          "delete_cmd_prefix": "del ",
          "library": "var_list.py",
          "varRefreshCmd": "print(var_dic_list())"
        },
        "r": {
          "delete_cmd_postfix": ") ",
          "delete_cmd_prefix": "rm(",
          "library": "var_list.r",
          "varRefreshCmd": "cat(var_dic_list()) "
        }
      },
      "types_to_exclude": [
        "module",
        "function",
        "builtin_function_or_method",
        "instance",
        "_Feature"
      ],
      "window_display": false
    },
    "colab": {
      "provenance": []
    }
  },
  "nbformat": 4,
  "nbformat_minor": 5
}